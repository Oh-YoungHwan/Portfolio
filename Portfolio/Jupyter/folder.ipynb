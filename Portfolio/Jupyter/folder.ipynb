{
 "cells": [
  {
   "cell_type": "markdown",
   "id": "89fbaff2",
   "metadata": {},
   "source": [
    "## 파일을 업로드 하기 위한 코드 작성"
   ]
  },
  {
   "cell_type": "markdown",
   "id": "3002d979",
   "metadata": {},
   "source": [
    "#### 파일의 경로 저장"
   ]
  },
  {
   "cell_type": "code",
   "execution_count": 4,
   "id": "75f352be",
   "metadata": {},
   "outputs": [],
   "source": [
    "import pandas as pd"
   ]
  },
  {
   "cell_type": "code",
   "execution_count": 3,
   "id": "bfb703f8",
   "metadata": {},
   "outputs": [],
   "source": [
    "# root 폴더의 경로 지정\n",
    "root = \"C:/Users/USER/Desktop/Portfolio/Portfolio/Portfolio/Jupyter\""
   ]
  },
  {
   "cell_type": "code",
   "execution_count": 16,
   "id": "17097769",
   "metadata": {},
   "outputs": [],
   "source": [
    "# 파일들의 경로와 이름을 저장할 데이터프레임 지정 \n",
    "folder_df = pd.DataFrame(columns = [\"name\", \"address\"])"
   ]
  },
  {
   "cell_type": "code",
   "execution_count": 17,
   "id": "4872bd55",
   "metadata": {},
   "outputs": [],
   "source": [
    "# Crawling.ipynb의 경로 저장\n",
    "folder_df.loc[0, \"name\"] = \"Crawling.ipynb\"\n",
    "folder_df.loc[0, \"address\"] = f\"{root}/Crawling.ipynb\""
   ]
  },
  {
   "cell_type": "code",
   "execution_count": 21,
   "id": "d6990c32",
   "metadata": {},
   "outputs": [],
   "source": [
    "# folder.ipynb의 경로 저장\n",
    "folder_df.loc[1, \"name\"] = \"folder.ipynb\"\n",
    "folder_df.loc[1, \"address\"] = f\"{root}/folder.ipynb\""
   ]
  },
  {
   "cell_type": "code",
   "execution_count": 24,
   "id": "6a7a9e22",
   "metadata": {},
   "outputs": [],
   "source": [
    "# folder_df를 csv형태로 저장\n",
    "folder_df.to_csv(\"./folder/folder_df.csv\", index=False)"
   ]
  },
  {
   "cell_type": "code",
   "execution_count": 25,
   "id": "275c7878",
   "metadata": {},
   "outputs": [
    {
     "data": {
      "text/html": [
       "<div>\n",
       "<style scoped>\n",
       "    .dataframe tbody tr th:only-of-type {\n",
       "        vertical-align: middle;\n",
       "    }\n",
       "\n",
       "    .dataframe tbody tr th {\n",
       "        vertical-align: top;\n",
       "    }\n",
       "\n",
       "    .dataframe thead th {\n",
       "        text-align: right;\n",
       "    }\n",
       "</style>\n",
       "<table border=\"1\" class=\"dataframe\">\n",
       "  <thead>\n",
       "    <tr style=\"text-align: right;\">\n",
       "      <th></th>\n",
       "      <th>name</th>\n",
       "      <th>address</th>\n",
       "    </tr>\n",
       "  </thead>\n",
       "  <tbody>\n",
       "    <tr>\n",
       "      <th>0</th>\n",
       "      <td>Crawling.ipynb</td>\n",
       "      <td>C:/Users/USER/Desktop/Portfolio/Portfolio/Port...</td>\n",
       "    </tr>\n",
       "    <tr>\n",
       "      <th>1</th>\n",
       "      <td>folder.ipynb</td>\n",
       "      <td>C:/Users/USER/Desktop/Portfolio/Portfolio/Port...</td>\n",
       "    </tr>\n",
       "  </tbody>\n",
       "</table>\n",
       "</div>"
      ],
      "text/plain": [
       "             name                                            address\n",
       "0  Crawling.ipynb  C:/Users/USER/Desktop/Portfolio/Portfolio/Port...\n",
       "1    folder.ipynb  C:/Users/USER/Desktop/Portfolio/Portfolio/Port..."
      ]
     },
     "execution_count": 25,
     "metadata": {},
     "output_type": "execute_result"
    }
   ],
   "source": [
    "# 저장한 csv파일 확안\n",
    "pd.read_csv(\"./folder/folder_df.csv\")"
   ]
  },
  {
   "cell_type": "code",
   "execution_count": null,
   "id": "f50fa52f",
   "metadata": {},
   "outputs": [],
   "source": []
  }
 ],
 "metadata": {
  "kernelspec": {
   "display_name": "Python 3 (ipykernel)",
   "language": "python",
   "name": "python3"
  },
  "language_info": {
   "codemirror_mode": {
    "name": "ipython",
    "version": 3
   },
   "file_extension": ".py",
   "mimetype": "text/x-python",
   "name": "python",
   "nbconvert_exporter": "python",
   "pygments_lexer": "ipython3",
   "version": "3.11.5"
  }
 },
 "nbformat": 4,
 "nbformat_minor": 5
}
