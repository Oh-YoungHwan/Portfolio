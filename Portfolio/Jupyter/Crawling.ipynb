{
 "cells": [
  {
   "cell_type": "markdown",
   "id": "6737679f",
   "metadata": {},
   "source": [
    "# 크롤링"
   ]
  },
  {
   "cell_type": "markdown",
   "id": "dad5086a",
   "metadata": {},
   "source": [
    "### 키토크AI의 robots.txt 크롤링"
   ]
  },
  {
   "cell_type": "code",
   "execution_count": 1,
   "id": "01ec4ffb",
   "metadata": {},
   "outputs": [],
   "source": [
    "from selenium.webdriver import Chrome, ChromeService\n",
    "from selenium.webdriver.common.by import By \n",
    "from selenium.webdriver.support import expected_conditions as EC\n",
    "from selenium.webdriver.support.ui import WebDriverWait\n",
    "from selenium.webdriver.common.keys import Keys\n",
    "\n",
    "import pandas as pd"
   ]
  },
  {
   "cell_type": "code",
   "execution_count": 2,
   "id": "a2b1ea75",
   "metadata": {
    "scrolled": true
   },
   "outputs": [],
   "source": [
    "# url을 카카오 지도로 설정\n",
    "url = \"https://map.kakao.com//\"\n",
    "\n",
    "# 크롬 드라이버 설정\n",
    "driver = Chrome(service = ChromeService(\"./chromedriver-win64/chromedriver.exe\"))\n",
    "\n",
    "# 크롤링 창 띄우기\n",
    "driver.get(url)\n",
    "\n",
    "# 검색창을 암시적 대기 대상으로 지정\n",
    "wait = WebDriverWait(driver, 10)\n",
    "element = wait.until(EC.presence_of_element_located((By.CSS_SELECTOR, \"#search\\.keyword\\.query\"))) # 명시적 대기 지정\n",
    "space = driver.find_element(By.CSS_SELECTOR, \"#search\\.keyword\\.query\") # 검색창 지정\n",
    "\n",
    "# 검색창에 \"키토크AI\"를 입력후 검색\n",
    "space.send_keys(\"키토크AI\")\n",
    "space.send_keys(Keys.ENTER)\n",
    "\n",
    "# 검색 결과를 암시적 대기 대상으로 지정\n",
    "wait = WebDriverWait(driver, 10)\n",
    "element = wait.until(EC.presence_of_element_located((By.CSS_SELECTOR, \"li a.homepage\"))) # 명시적 대기 지정\n",
    "\n",
    "# 검색된 \"키토크AI\"를 클릭 \n",
    "keytalk = driver.find_element(By.CSS_SELECTOR, \"li a.homepage\") # 검색 결과 지정\n",
    "driver.execute_script(\"arguments[0].click();\", keytalk)\n",
    "\n",
    "# 키토크AI의 홈페이지를 새로운 driver로 지정\n",
    "driver.switch_to.window(driver.window_handles[1])\n",
    "\n",
    "# 키토크AI의 홈페이지 주소를 new_url로 지정\n",
    "new_url = driver.current_url\n",
    "\n",
    "# 키토크AI의 robots.txt 추출\n",
    "driver.get(f\"{new_url}/robots.txt\")\n",
    "robots_txt = driver.find_element(By.CSS_SELECTOR, \"body > pre\")\n",
    "text = robots_txt.text\n",
    "\n",
    "# 창 닫기\n",
    "driver.quit()\n"
   ]
  },
  {
   "cell_type": "code",
   "execution_count": 3,
   "id": "bd279164",
   "metadata": {
    "scrolled": true
   },
   "outputs": [
    {
     "name": "stdout",
     "output_type": "stream",
     "text": [
      "User-agent: SemrushBot\n",
      "Disallow: /\n",
      "\n",
      "User-agent: *\n",
      "Disallow: /member\n",
      "Disallow: /member/login\n",
      "Disallow: /member/logout\n",
      "Disallow: /member/join\n",
      "Disallow: /member/findPasswd\n",
      "Disallow: /mytide\n",
      "Disallow: /app/temp\n",
      "Disallow: /app/temp/css\n",
      "Disallow: /temp\n",
      "Disallow: /temp/css\n",
      "Disallow: /template\n",
      "Disallow: /template/newchart\n",
      "Disallow: /teaser\n",
      "Disallow: /teaser/js\n",
      "Disallow: /teaser/js/nvd3\n",
      "Disallow: /teaser/js\n",
      "Disallow: /teaser/js\n",
      "Disallow: /manifest.json\n",
      "Disallow: /news/search/N0022/*\n",
      "Disallow: /my\n",
      "Disallow: /profile\n",
      "Disallow: /feed/*\n",
      "Disallow: /feed\n",
      "Disallow: /feed/main\n",
      "Disallow: /feed/posts\n",
      "Disallow: /info\n",
      "Disallow: /notice\n",
      "Disallow: /faq\n",
      "Disallow: /customer\n",
      "Disallow: /customer/qna\n",
      "Disallow: /customer/qna/write\n",
      "Disallow: /terms\n",
      "Disallow: /privacy\n",
      "Disallow: /policy_lbs\n",
      "\n",
      "Disallow: /search\n",
      "Disallow: /search?q\n",
      "Disallow: /search?w\n",
      "Disallow: /search?*w\n",
      "Disallow: /search?q=*w\n",
      "Disallow: /tutorial\n",
      "Disallow: /brand\n",
      "\n",
      "Disallow: /art/*220878$\n",
      "Disallow: /art/*220884$\n",
      "Disallow: /art/*220880$\n",
      "Disallow: /art/*220882$\n",
      "Disallow: /art/*220883$\n",
      "Disallow: /art/*220881$\n",
      "\n",
      "Sitemap: https://www.mycelebs.com/sitemap.xml\n"
     ]
    }
   ],
   "source": [
    "# 크롤링한 키토크AI의 robots.txt 확인하기\n",
    "print(text)"
   ]
  },
  {
   "cell_type": "markdown",
   "id": "cfc1db32",
   "metadata": {},
   "source": [
    "## 키토크AI의 robots.txt를 데이터프레임 형태로 변환"
   ]
  },
  {
   "cell_type": "code",
   "execution_count": 4,
   "id": "34bc94dc",
   "metadata": {
    "scrolled": true
   },
   "outputs": [
    {
     "name": "stdout",
     "output_type": "stream",
     "text": [
      "['User-agent: SemrushBot', 'Disallow: /', '', 'User-agent: *', 'Disallow: /member', 'Disallow: /member/login', 'Disallow: /member/logout', 'Disallow: /member/join', 'Disallow: /member/findPasswd', 'Disallow: /mytide', 'Disallow: /app/temp', 'Disallow: /app/temp/css', 'Disallow: /temp', 'Disallow: /temp/css', 'Disallow: /template', 'Disallow: /template/newchart', 'Disallow: /teaser', 'Disallow: /teaser/js', 'Disallow: /teaser/js/nvd3', 'Disallow: /teaser/js', 'Disallow: /teaser/js', 'Disallow: /manifest.json', 'Disallow: /news/search/N0022/*', 'Disallow: /my', 'Disallow: /profile', 'Disallow: /feed/*', 'Disallow: /feed', 'Disallow: /feed/main', 'Disallow: /feed/posts', 'Disallow: /info', 'Disallow: /notice', 'Disallow: /faq', 'Disallow: /customer', 'Disallow: /customer/qna', 'Disallow: /customer/qna/write', 'Disallow: /terms', 'Disallow: /privacy', 'Disallow: /policy_lbs', '', 'Disallow: /search', 'Disallow: /search?q', 'Disallow: /search?w', 'Disallow: /search?*w', 'Disallow: /search?q=*w', 'Disallow: /tutorial', 'Disallow: /brand', '', 'Disallow: /art/*220878$', 'Disallow: /art/*220884$', 'Disallow: /art/*220880$', 'Disallow: /art/*220882$', 'Disallow: /art/*220883$', 'Disallow: /art/*220881$', '', 'Sitemap: https://www.mycelebs.com/sitemap.xml']\n"
     ]
    }
   ],
   "source": [
    "text_list = text.split(\"\\n\")\n",
    "print(text_list)"
   ]
  },
  {
   "cell_type": "markdown",
   "id": "412eae57",
   "metadata": {},
   "source": [
    "- User-agent가 SemrushBot인 경우\n",
    "    - 모든 주소 접근 불허\n",
    "    \n",
    "- User-agent가 SemrushBot가 아닌 경우 (모든 유저)\n",
    "    - 특정 주소 접근 불허"
   ]
  },
  {
   "cell_type": "code",
   "execution_count": 5,
   "id": "3832f883",
   "metadata": {},
   "outputs": [],
   "source": [
    "# 크롤링 한 정보를 데이터프레임 형태로 변환\n",
    "SemrushBot_df = pd.DataFrame(columns = [\"User_agent\", \"Disallow\"], data = [[\"SemrushBot\", \"*\"]])"
   ]
  },
  {
   "cell_type": "code",
   "execution_count": 6,
   "id": "a187fbea",
   "metadata": {},
   "outputs": [
    {
     "data": {
      "text/html": [
       "<div>\n",
       "<style scoped>\n",
       "    .dataframe tbody tr th:only-of-type {\n",
       "        vertical-align: middle;\n",
       "    }\n",
       "\n",
       "    .dataframe tbody tr th {\n",
       "        vertical-align: top;\n",
       "    }\n",
       "\n",
       "    .dataframe thead th {\n",
       "        text-align: right;\n",
       "    }\n",
       "</style>\n",
       "<table border=\"1\" class=\"dataframe\">\n",
       "  <thead>\n",
       "    <tr style=\"text-align: right;\">\n",
       "      <th></th>\n",
       "      <th>User_agent</th>\n",
       "      <th>Disallow</th>\n",
       "    </tr>\n",
       "  </thead>\n",
       "  <tbody>\n",
       "    <tr>\n",
       "      <th>0</th>\n",
       "      <td>SemrushBot</td>\n",
       "      <td>*</td>\n",
       "    </tr>\n",
       "  </tbody>\n",
       "</table>\n",
       "</div>"
      ],
      "text/plain": [
       "   User_agent Disallow\n",
       "0  SemrushBot        *"
      ]
     },
     "execution_count": 6,
     "metadata": {},
     "output_type": "execute_result"
    }
   ],
   "source": [
    "# 생성한 SemrushBot_df 확인\n",
    "SemrushBot_df"
   ]
  },
  {
   "cell_type": "code",
   "execution_count": 7,
   "id": "980fe8a7",
   "metadata": {},
   "outputs": [
    {
     "data": {
      "text/plain": [
       "3"
      ]
     },
     "execution_count": 7,
     "metadata": {},
     "output_type": "execute_result"
    }
   ],
   "source": [
    "# 'User-agent: *'의 위치 확인\n",
    "idx = text_list.index('User-agent: *')\n",
    "idx"
   ]
  },
  {
   "cell_type": "code",
   "execution_count": 8,
   "id": "11cfd5af",
   "metadata": {},
   "outputs": [
    {
     "data": {
      "text/plain": [
       "['/member',\n",
       " '/member/login',\n",
       " '/member/logout',\n",
       " '/member/join',\n",
       " '/member/findPasswd',\n",
       " '/mytide',\n",
       " '/app/temp',\n",
       " '/app/temp/css',\n",
       " '/temp',\n",
       " '/temp/css',\n",
       " '/template',\n",
       " '/template/newchart',\n",
       " '/teaser',\n",
       " '/teaser/js',\n",
       " '/teaser/js/nvd3',\n",
       " '/teaser/js',\n",
       " '/teaser/js',\n",
       " '/manifest.json',\n",
       " '/news/search/N0022/*',\n",
       " '/my',\n",
       " '/profile',\n",
       " '/feed/*',\n",
       " '/feed',\n",
       " '/feed/main',\n",
       " '/feed/posts',\n",
       " '/info',\n",
       " '/notice',\n",
       " '/faq',\n",
       " '/customer',\n",
       " '/customer/qna',\n",
       " '/customer/qna/write',\n",
       " '/terms',\n",
       " '/privacy',\n",
       " '/policy_lbs',\n",
       " '/search',\n",
       " '/search?q',\n",
       " '/search?w',\n",
       " '/search?*w',\n",
       " '/search?q=*w',\n",
       " '/tutorial',\n",
       " '/brand',\n",
       " '/art/*220878$',\n",
       " '/art/*220884$',\n",
       " '/art/*220880$',\n",
       " '/art/*220882$',\n",
       " '/art/*220883$',\n",
       " '/art/*220881$']"
      ]
     },
     "execution_count": 8,
     "metadata": {},
     "output_type": "execute_result"
    }
   ],
   "source": [
    "# text_list의 범위를 3 이후부터 -1번째까지로 설정 (idx는 3이며 Sitemap은 현재 필요치 않은 데이터이기 때문)\n",
    "text_list = text_list[idx+1:-1]\n",
    "\n",
    "# 데이터 받을 리스트 생성\n",
    "User_agent_list = []\n",
    "for i in range(len(text_list)) :\n",
    "    \n",
    "    # 데이터의 길이가 존재할 때만 실행\n",
    "    if len(text_list[i]) > 0 :\n",
    "        text_list[i] = text_list[i].replace(\"Disallow: \", \"\") # \"Disallow: \"부분 삭제\n",
    "        User_agent_list.append(text_list[i]) # 수정한 데이터를 User_agent_list에 추가\n",
    "    \n",
    "User_agent_list"
   ]
  },
  {
   "cell_type": "code",
   "execution_count": 9,
   "id": "b65cc55d",
   "metadata": {},
   "outputs": [],
   "source": [
    "# 데이터 프레임 생성\n",
    "User_agent_df = pd.DataFrame({\"User_agent\" : [\"Users\"]*len(User_agent_list), # User_agent_list의 길이만금 \"Users\" 생성\n",
    "                              \"Disallow\": [address for address in User_agent_list]}) # User_agent_list에서 하나씩 정보를 추출함"
   ]
  },
  {
   "cell_type": "code",
   "execution_count": 10,
   "id": "b2929998",
   "metadata": {
    "scrolled": false
   },
   "outputs": [
    {
     "data": {
      "text/html": [
       "<div>\n",
       "<style scoped>\n",
       "    .dataframe tbody tr th:only-of-type {\n",
       "        vertical-align: middle;\n",
       "    }\n",
       "\n",
       "    .dataframe tbody tr th {\n",
       "        vertical-align: top;\n",
       "    }\n",
       "\n",
       "    .dataframe thead th {\n",
       "        text-align: right;\n",
       "    }\n",
       "</style>\n",
       "<table border=\"1\" class=\"dataframe\">\n",
       "  <thead>\n",
       "    <tr style=\"text-align: right;\">\n",
       "      <th></th>\n",
       "      <th>User_agent</th>\n",
       "      <th>Disallow</th>\n",
       "    </tr>\n",
       "  </thead>\n",
       "  <tbody>\n",
       "    <tr>\n",
       "      <th>0</th>\n",
       "      <td>Users</td>\n",
       "      <td>/member</td>\n",
       "    </tr>\n",
       "    <tr>\n",
       "      <th>1</th>\n",
       "      <td>Users</td>\n",
       "      <td>/member/login</td>\n",
       "    </tr>\n",
       "    <tr>\n",
       "      <th>2</th>\n",
       "      <td>Users</td>\n",
       "      <td>/member/logout</td>\n",
       "    </tr>\n",
       "    <tr>\n",
       "      <th>3</th>\n",
       "      <td>Users</td>\n",
       "      <td>/member/join</td>\n",
       "    </tr>\n",
       "    <tr>\n",
       "      <th>4</th>\n",
       "      <td>Users</td>\n",
       "      <td>/member/findPasswd</td>\n",
       "    </tr>\n",
       "  </tbody>\n",
       "</table>\n",
       "</div>"
      ],
      "text/plain": [
       "  User_agent            Disallow\n",
       "0      Users             /member\n",
       "1      Users       /member/login\n",
       "2      Users      /member/logout\n",
       "3      Users        /member/join\n",
       "4      Users  /member/findPasswd"
      ]
     },
     "execution_count": 10,
     "metadata": {},
     "output_type": "execute_result"
    }
   ],
   "source": [
    "# 생성한 User_agent_df 확인\n",
    "User_agent_df.head()"
   ]
  },
  {
   "cell_type": "code",
   "execution_count": 11,
   "id": "035e7754",
   "metadata": {},
   "outputs": [],
   "source": [
    "# 생성한 데이터프레임들을 csv파일로 저장\n",
    "SemrushBot_df.to_csv(\"./Crawling/SemrushBot_df.csv\", index=False)\n",
    "User_agent_df.to_csv(\"./Crawling/User_agent_df.csv\", index=False)"
   ]
  },
  {
   "cell_type": "code",
   "execution_count": 12,
   "id": "32af5d2f",
   "metadata": {},
   "outputs": [],
   "source": [
    "# 저장한 csv파일 확인\n",
    "SemrushBot_df = pd.read_csv(\"./Crawling/SemrushBot_df.csv\")\n",
    "User_agent_df = pd.read_csv(\"./Crawling/User_agent_df.csv\")"
   ]
  },
  {
   "cell_type": "code",
   "execution_count": 13,
   "id": "cae7ca41",
   "metadata": {},
   "outputs": [
    {
     "data": {
      "text/html": [
       "<div>\n",
       "<style scoped>\n",
       "    .dataframe tbody tr th:only-of-type {\n",
       "        vertical-align: middle;\n",
       "    }\n",
       "\n",
       "    .dataframe tbody tr th {\n",
       "        vertical-align: top;\n",
       "    }\n",
       "\n",
       "    .dataframe thead th {\n",
       "        text-align: right;\n",
       "    }\n",
       "</style>\n",
       "<table border=\"1\" class=\"dataframe\">\n",
       "  <thead>\n",
       "    <tr style=\"text-align: right;\">\n",
       "      <th></th>\n",
       "      <th>User_agent</th>\n",
       "      <th>Disallow</th>\n",
       "    </tr>\n",
       "  </thead>\n",
       "  <tbody>\n",
       "    <tr>\n",
       "      <th>0</th>\n",
       "      <td>SemrushBot</td>\n",
       "      <td>*</td>\n",
       "    </tr>\n",
       "  </tbody>\n",
       "</table>\n",
       "</div>"
      ],
      "text/plain": [
       "   User_agent Disallow\n",
       "0  SemrushBot        *"
      ]
     },
     "execution_count": 13,
     "metadata": {},
     "output_type": "execute_result"
    }
   ],
   "source": [
    "SemrushBot_df"
   ]
  },
  {
   "cell_type": "code",
   "execution_count": 15,
   "id": "1756e2b5",
   "metadata": {},
   "outputs": [
    {
     "data": {
      "text/html": [
       "<div>\n",
       "<style scoped>\n",
       "    .dataframe tbody tr th:only-of-type {\n",
       "        vertical-align: middle;\n",
       "    }\n",
       "\n",
       "    .dataframe tbody tr th {\n",
       "        vertical-align: top;\n",
       "    }\n",
       "\n",
       "    .dataframe thead th {\n",
       "        text-align: right;\n",
       "    }\n",
       "</style>\n",
       "<table border=\"1\" class=\"dataframe\">\n",
       "  <thead>\n",
       "    <tr style=\"text-align: right;\">\n",
       "      <th></th>\n",
       "      <th>User_agent</th>\n",
       "      <th>Disallow</th>\n",
       "    </tr>\n",
       "  </thead>\n",
       "  <tbody>\n",
       "    <tr>\n",
       "      <th>0</th>\n",
       "      <td>Users</td>\n",
       "      <td>/member</td>\n",
       "    </tr>\n",
       "    <tr>\n",
       "      <th>1</th>\n",
       "      <td>Users</td>\n",
       "      <td>/member/login</td>\n",
       "    </tr>\n",
       "    <tr>\n",
       "      <th>2</th>\n",
       "      <td>Users</td>\n",
       "      <td>/member/logout</td>\n",
       "    </tr>\n",
       "    <tr>\n",
       "      <th>3</th>\n",
       "      <td>Users</td>\n",
       "      <td>/member/join</td>\n",
       "    </tr>\n",
       "    <tr>\n",
       "      <th>4</th>\n",
       "      <td>Users</td>\n",
       "      <td>/member/findPasswd</td>\n",
       "    </tr>\n",
       "  </tbody>\n",
       "</table>\n",
       "</div>"
      ],
      "text/plain": [
       "  User_agent            Disallow\n",
       "0      Users             /member\n",
       "1      Users       /member/login\n",
       "2      Users      /member/logout\n",
       "3      Users        /member/join\n",
       "4      Users  /member/findPasswd"
      ]
     },
     "execution_count": 15,
     "metadata": {},
     "output_type": "execute_result"
    }
   ],
   "source": [
    "User_agent_df.head()"
   ]
  },
  {
   "cell_type": "code",
   "execution_count": null,
   "id": "2720c796",
   "metadata": {},
   "outputs": [],
   "source": []
  }
 ],
 "metadata": {
  "kernelspec": {
   "display_name": "Python 3 (ipykernel)",
   "language": "python",
   "name": "python3"
  },
  "language_info": {
   "codemirror_mode": {
    "name": "ipython",
    "version": 3
   },
   "file_extension": ".py",
   "mimetype": "text/x-python",
   "name": "python",
   "nbconvert_exporter": "python",
   "pygments_lexer": "ipython3",
   "version": "3.11.5"
  }
 },
 "nbformat": 4,
 "nbformat_minor": 5
}
